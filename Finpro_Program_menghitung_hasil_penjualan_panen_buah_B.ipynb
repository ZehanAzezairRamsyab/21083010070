{
  "cells": [
    {
      "cell_type": "code",
      "execution_count": null,
      "id": "70325738-f481-468c-9246-75fac24441eb",
      "metadata": {
        "colab": {
          "base_uri": "https://localhost:8080/"
        },
        "id": "70325738-f481-468c-9246-75fac24441eb",
        "outputId": "dc8629e1-cfc4-4546-b56f-0fb95aa8650a"
      },
      "outputs": [
        {
          "output_type": "stream",
          "name": "stdout",
          "text": [
            "                                                Halo para pengguna\n",
            "                         Selamat Datang di program menghitung hasil penjualan panen buah.\n",
            "                    Program ini akan membantu Anda menghitung hasil penjualan panen buah Anda,\n",
            "                Silakan ikuti instruksi yang diberikan untuk menghitung hasil penjualan panen buah.\n",
            "                                         Semoga program ini Bermanfaat yaa:)\n",
            "               ____________________________________________________________________________________\n",
            "\n",
            "\n",
            "jenis buah yang dipanen adalah buah apel\n",
            "Berapa banyak buah yang dipanen? 10\n",
            "Anda telah mengumpulkan 10 buah apel yang segar dan berkualitas.\n",
            "harga jual per kilogram buah yang dipanen adalah Rp.9000\n",
            "Total pendapatan dari penjualan buah apel adalah Rp.90000\n",
            "Apakah ingin menghitung hasil penjualan panen buah anda lagi? (y/n)n\n",
            "terimakasih telah menggunakan program ini\n"
          ]
        }
      ],
      "source": [
        "# menampilkan salam pembuka\n",
        "print(\"                                                Halo para pengguna\")\n",
        "print(\"                         Selamat Datang di program menghitung hasil penjualan panen buah.\")\n",
        "print(\"                    Program ini akan membantu Anda menghitung hasil penjualan panen buah Anda,\")\n",
        "print(\"                Silakan ikuti instruksi yang diberikan untuk menghitung hasil penjualan panen buah.\")\n",
        "print(\"                                         Semoga program ini Bermanfaat yaa:)\")\n",
        "print(\"               ____________________________________________________________________________________\")\n",
        "print(\"\")\n",
        "print(\"\")\n",
        "\n",
        "\n",
        "# Mendefinisikan variabel jenis_buah, jumlah_buah, harga_per_kg, dan total_pendapatan sebagai Rp\n",
        "jenis_buah = 0\n",
        "jumlah_buah = 0\n",
        "harga_per_kg = 0\n",
        "total_pendapatan = 0\n",
        "    \n",
        "while True: \n",
        "    \n",
        "  # Meminta input dari pengguna untuk jenis buah yang dipanen\n",
        "   jenis_buah = input(\"jenis buah yang dipanen adalah buah \")\n",
        "\n",
        "  # Menanyakan jumlah buah yang dipanen\n",
        "   jumlah_buah = int(input(\"Berapa banyak buah yang dipanen? \"))\n",
        "\n",
        "  # Menambahkan pesan setelah jumlah buah yang dipanen diinputkan\n",
        "   print(\"Anda telah mengumpulkan \" + str(jumlah_buah) + \" buah \" + jenis_buah + \" yang segar dan berkualitas.\")\n",
        "   \n",
        "  # Meminta input dari pengguna untuk harga jual per kilogram buah yang dipanen\n",
        "   harga_per_kg = float(input(\"harga jual per kilogram buah yang dipanen adalah Rp.\"))\n",
        "\n",
        "  # Menghitung total pendapatan dari penjualan buah\n",
        "   total_pendapatan = jumlah_buah * harga_per_kg\n",
        "\n",
        "  # Menampilkan hasilnya ke layar\n",
        "   print(\"Total pendapatan dari penjualan buah \" + jenis_buah + \" adalah\" + \" Rp.\"+ str(int(total_pendapatan)))\n",
        "\n",
        "  # Meminta input dari pengguna untuk mengulang program atau tidak\n",
        "   ulang = input(\"Apakah ingin menghitung hasil penjualan panen buah anda lagi? (y/n)\")\n",
        "\n",
        "  # Jika pengguna tidak ingin mengulang program, maka program akan berhenti\n",
        "   if ulang == \"n\":\n",
        "     print(\"terimakasih telah menggunakan program ini\")\n",
        "     break\n"
      ]
    },
    {
      "cell_type": "code",
      "execution_count": null,
      "id": "dec52aa9",
      "metadata": {
        "id": "dec52aa9"
      },
      "outputs": [],
      "source": [
        "1"
      ]
    }
  ],
  "metadata": {
    "kernelspec": {
      "display_name": "Python 3 (ipykernel)",
      "language": "python",
      "name": "python3"
    },
    "language_info": {
      "codemirror_mode": {
        "name": "ipython",
        "version": 3
      },
      "file_extension": ".py",
      "mimetype": "text/x-python",
      "name": "python",
      "nbconvert_exporter": "python",
      "pygments_lexer": "ipython3",
      "version": "3.9.7"
    },
    "colab": {
      "provenance": []
    }
  },
  "nbformat": 4,
  "nbformat_minor": 5
}